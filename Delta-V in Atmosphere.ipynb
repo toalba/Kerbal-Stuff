{
 "cells": [
  {
   "cell_type": "markdown",
   "metadata": {},
   "source": [
    "# Delta-V Berechnung in Atmosphere"
   ]
  },
  {
   "cell_type": "markdown",
   "metadata": {},
   "source": [
    "Hiermit wird die Berechnung von dem Delta-V Wert in einer Atmosphere dargestellt. Da dieses Thema höchst komplex ist und sehr schwierig zu Berechnen werde ich es nur annäherungsweise Berechenen.\n",
    "\n",
    "Die jeweils selbst raus zu finden Daten werden die Atmospherendruck und der CW-Wert (Strömungswiderstandskoeffizient) des Objektes sein.\n",
    "\n",
    "Der CW-Wert ist der Wert der Annäherungsweise den Luftwiderstand beschreibt.\n",
    "Dieser kann durch \\begin{equation} Fw/q*A \\end{equation} beschrieben werden.\n",
    "\n",
    "Zur Vereinfachung gibt es eine Tabelle die für unsere Zwecke Reichen sollte. Wichtig ist dabei immer von der größten Querschnittsfläche auszugehen(von oben Betrachtete). Quelle: Wikipedia"
   ]
  },
  {
   "cell_type": "markdown",
   "metadata": {},
   "source": [
    "|Wert \t|Form|\n",
    "|-------|----|\n",
    "|2,3 \t|Halbrohr lang, konkave Seite|\n",
    "|2,0 \t|lange Rechteckplatte|\n",
    "|1,33 \t|Halbkugelschale, konkave Seite, Fallschirm|\n",
    "|1,2 \t|Halbrohr lang, konvexe Seit|\n",
    "|1,2 \t|langer Zylinder, Draht (Re < 1,9 · 105)|\n",
    "|1,11…1,17 \t|runde Scheibe, quadratische Platte|\n",
    "|0,78 \t|Mensch, stehend[5]|\n",
    "|0,6 \t|Gleitschirm (Bezugsfläche Strömungsquerschnittsfläche!)|\n",
    "|0,53…0,69 \t|Fahrrad (Mountainbike, gestreckt/aufrecht)[6]|\n",
    "|0,45 \t|Kugel (Re < 1,7 · 105)|\n",
    "|0,4 \t|Fahrrad (Rennrad)[6]|\n",
    "|0,35 \t|langer Zylinder, Draht (Re > 6,7 · 105)|\n",
    "|0,34 \t|Halbkugelschale, konvexe Seite|\n",
    "|0,09…0,18 \t|Kugel (Re > 4,1 · 105)|\n",
    "|0,08 \t|Flugzeug (Bezugsfläche Tragfläche)|\n",
    "|0,03 \t|Pinguin|\n",
    "|0,02 \t|Stromlinienkörper „Tropfenform“ |"
   ]
  },
  {
   "cell_type": "markdown",
   "metadata": {},
   "source": [
    "Im Grunde gilt wieder: \\begin{equation} ISP(ASL)*Logmasse \\end{equation} \n",
    "\n",
    "Alles dazu hier: https://www.kerbalspaceprogram.de/forum/thread/3848-delta-v-berechnen-leicht-gemacht-f%C3%BCr-jeder-man/?postID=54930#post54930\n",
    "\n",
    "Nur das diesesmal noch der CW Faktor und die Dichte der Atmosphere hinzukommt: \\begin{equation} ISP*Logmasse/Cw*Dichte \\end{equation} "
   ]
  },
  {
   "cell_type": "code",
   "execution_count": 9,
   "metadata": {},
   "outputs": [],
   "source": [
    "\n",
    "import numpy as np\n",
    "\n",
    "def DeltaV(Isp,Vm,Lm,Cw,D):\n",
    "    \"\"\"\n",
    "    Isp=ISP\n",
    "    Vm=Vollmasse\n",
    "    Lm=Leermasse\n",
    "    Cw=CW-Wert\n",
    "    D=Dichte\n",
    "    \"\"\"\n",
    "    #Logmasse\n",
    "    L=np.log(Vm-Lm)\n",
    "    #Berechnung\n",
    "    DV=(Isp*L)/(Cw*D)\n",
    "    print(DV)    "
   ]
  },
  {
   "cell_type": "markdown",
   "metadata": {},
   "source": [
    "Als bsp. Dunna dessen mittlere Druck 0,0667 ist und einem Raumfahrzeug mit annähernd Kreisförmigen Umriss (CW=1,11)\n",
    "mit dem ISP(ASL)=265(*Reliant*)und einer Vollmasse von 18t und Leermasse von 11t"
   ]
  },
  {
   "cell_type": "code",
   "execution_count": 10,
   "metadata": {},
   "outputs": [
    {
     "name": "stdout",
     "output_type": "stream",
     "text": [
      "464.56413468437654\n"
     ]
    }
   ],
   "source": [
    "DeltaV(265,18,11,1.11,0.0667)"
   ]
  }
 ],
 "metadata": {
  "kernelspec": {
   "display_name": "Python 3",
   "language": "python",
   "name": "python3"
  },
  "language_info": {
   "codemirror_mode": {
    "name": "ipython",
    "version": 3
   },
   "file_extension": ".py",
   "mimetype": "text/x-python",
   "name": "python",
   "nbconvert_exporter": "python",
   "pygments_lexer": "ipython3",
   "version": "3.6.5"
  }
 },
 "nbformat": 4,
 "nbformat_minor": 2
}
