{
 "cells": [
  {
   "cell_type": "markdown",
   "metadata": {},
   "source": [
    "Hier ist die Berrechnung des Notebooks:"
   ]
  },
  {
   "cell_type": "code",
   "execution_count": 41,
   "metadata": {},
   "outputs": [
    {
     "name": "stdout",
     "output_type": "stream",
     "text": [
      "Delta V = 585.003 m/s\n",
      "Spec-Impuls=3692.308m/s²\n",
      "logmasse=0.486m/s²\n"
     ]
    }
   ],
   "source": [
    "# Public Domain by toalba & jensens\n",
    "from math import log\n",
    "\n",
    "# PARAMETER BITTE ANPASSEN\n",
    "# Schub in kn pro Sekunde\n",
    "thrust = 60\n",
    "\n",
    "# fuel im Tank in Liter Oxidiers (der vollständig halber)\n",
    "OX = 0\n",
    "\n",
    "# fuel im Tank in Liter Liquid Fuel \n",
    "LF = 80\n",
    "\n",
    "# Verbrauch in Liter pro Sekunde\n",
    "verbrauch_OX = 0\n",
    "verbrauch_LF = 1.3\n",
    "\n",
    "# Masse Vollgetankt\n",
    "vollmasse = 13\n",
    "\n",
    "# Masse ohne Sprit\n",
    "leermasse = 8\n",
    "\n",
    "# AB HIER WIRD GERECHNET, NICHTS MEHR VERÄNDERN\n",
    "\n",
    "# logarythmische Korrektur der Massenabnahme beim Brennen\n",
    "logmasse = log(vollmasse/leermasse)\n",
    "\n",
    "# Mit dem Sprit maximale Brenndauer bei vollem Schub\n",
    "brenndauer_max = LF/verbrauch_LF\n",
    "\n",
    "# Gesamtbeschleunigung (pro Tonne) bei gegebener Brenndauer in m/s²\n",
    "spec_impuls = brenndauer_max*thrust\n",
    "\n",
    "# Berechnung der gesamten Differenzgeschwindigkeit \n",
    "delta_v = spec_impuls/(vollmasse*logmasse)\n",
    "\n",
    "# Ausgabe der gesamten Differenzgeschwindigkeit \n",
    "print('Delta V = {0:0.3f} m/s'.format(delta_v))\n",
    "print('Spec-Impuls={0:0.3f}m/s²'.format(spec_impuls))\n",
    "print('logmasse={0:0.3f}m/s²'.format(logmasse))"
   ]
  },
  {
   "cell_type": "markdown",
   "metadata": {},
   "source": [
    "Nutzlastrechnung (für dwarkaar):"
   ]
  },
  {
   "cell_type": "code",
   "execution_count": 44,
   "metadata": {},
   "outputs": [
    {
     "name": "stdout",
     "output_type": "stream",
     "text": [
      "Nutzlast=13.006\n"
     ]
    }
   ],
   "source": [
    "#!!!!Unfertig!!!!\n",
    "#!!!!WorkinProgress!!!\n",
    "#Erstmal selbe Faktoren für den Specifischen-Impuls\n",
    "#Bleiben wir am Bsp. Mun (wichtig die gesamte funktion ist für den Weltraum):\n",
    "from math import exp\n",
    "#from math import \n",
    "# PARAMETER BITTE ANPASSEN\n",
    "# Schub in kn pro Sekunde\n",
    "thrust = 60\n",
    "\n",
    "# fuel im Tank in Liter Oxidiers (der vollständig halber)\n",
    "OX = 0\n",
    "\n",
    "# fuel im Tank in Liter Liquid Fuel \n",
    "LF = 80\n",
    "\n",
    "# Verbrauch in Liter pro Sekunde\n",
    "verbrauch_OX = 0\n",
    "verbrauch_LF = 1.3\n",
    "\n",
    "#Nutzlast(quasi nur ohne tanks eig. deswegen *1.2 als ca. ausgleich)\n",
    "leermasse=8\n",
    "\n",
    "#Delta-V\n",
    "delta_v=585.003\n",
    "#Specifischer-Impuls(nachzulesen im KSP-Engine Info):\n",
    "ISP=300\n",
    "G=10  #Gravitation muss einberechnet werden da der ISP in KSP massespezifisch ist\n",
    "spec_impuls=3692.308\n",
    "\n",
    "#BERECHNUNG:\n",
    "#Bemerkung die Tanks die man dann für den Treibstoff brauch kann ich leider nicht mitberechen sry.\n",
    "\n",
    "log_masse=\n",
    "Vm=exp(log_masse)*leermasse\n",
    "\n",
    "\n",
    "print('Nutzlast={0:0.3f}'.format(Vm))\n",
    "#!!!NichRichtig!!!"
   ]
  },
  {
   "cell_type": "code",
   "execution_count": null,
   "metadata": {},
   "outputs": [],
   "source": []
  }
 ],
 "metadata": {
  "kernelspec": {
   "display_name": "Python 3",
   "language": "python",
   "name": "python3"
  },
  "language_info": {
   "codemirror_mode": {
    "name": "ipython",
    "version": 3
   },
   "file_extension": ".py",
   "mimetype": "text/x-python",
   "name": "python",
   "nbconvert_exporter": "python",
   "pygments_lexer": "ipython3",
   "version": "3.6.5"
  }
 },
 "nbformat": 4,
 "nbformat_minor": 2
}
